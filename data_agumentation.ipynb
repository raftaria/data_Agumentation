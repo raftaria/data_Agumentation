{
 "cells": [
  {
   "cell_type": "markdown",
   "id": "44858fee",
   "metadata": {},
   "source": [
    "---"
   ]
  },
  {
   "cell_type": "markdown",
   "id": "1be791e1",
   "metadata": {},
   "source": [
    "### **1. Import Module**"
   ]
  },
  {
   "cell_type": "code",
   "execution_count": 1,
   "id": "cc881fbb11172c1f",
   "metadata": {
    "collapsed": false,
    "ExecuteTime": {
     "end_time": "2023-09-24T07:19:37.389584900Z",
     "start_time": "2023-09-24T07:19:36.684677700Z"
    }
   },
   "outputs": [],
   "source": [
    "import os\n",
    "import glob\n",
    "import shutil\n",
    "import numpy as np\n",
    "import matplotlib.pyplot as plt\n",
    "\n",
    "from PIL import Image, ImageDraw"
   ]
  },
  {
   "cell_type": "markdown",
   "id": "145f5a21e9bf3175",
   "metadata": {
    "collapsed": false
   },
   "source": [
    "---"
   ]
  },
  {
   "cell_type": "markdown",
   "id": "08ba7335",
   "metadata": {},
   "source": [
    "### **2. Define Function : Image Crop (circular crop)**"
   ]
  },
  {
   "cell_type": "code",
   "execution_count": 2,
   "id": "70df942f",
   "metadata": {
    "ExecuteTime": {
     "end_time": "2023-09-24T07:19:37.398752500Z",
     "start_time": "2023-09-24T07:19:37.393586500Z"
    }
   },
   "outputs": [],
   "source": [
    "# 이미지 폴더 경로 설정\n",
    "image_folder_path = './00_modified_dataset/'\n",
    "\n",
    "# 이미지를 받아 Crop\n",
    "def crop_images(query):\n",
    "    set_image_folder = image_folder_path + str(query) + '/'\n",
    "    # 이미지 파일 목록 가져오기\n",
    "    image_files = glob.glob(os.path.join(set_image_folder, '*.jpg'))\n",
    "    # 저장할 폴더 경로\n",
    "    save_folder = './01_cropped_images_circular' + str(query) + '/'\n",
    "    os.makedirs(save_folder, exist_ok=True)\n",
    "\n",
    "    for image_path in image_files:\n",
    "        # 이미지 불러오기\n",
    "        image = Image.open(image_path)\n",
    "\n",
    "        # 원 모양의 크롭 영역 생성\n",
    "        center_x, center_y = image.width // 2, image.height // 2\n",
    "        radius = min(center_x, center_y)  # 반지름을 이미지 크기의 최소 길이의 절반으로 설정\n",
    "        mask = Image.new('L', image.size, 0)\n",
    "        draw = ImageDraw.Draw(mask)\n",
    "        draw.ellipse((center_x - radius, center_y - radius, center_x + radius, center_y + radius), fill=255)\n",
    "        cropped_image = Image.composite(image, Image.new('RGB', image.size), mask)\n",
    "\n",
    "        # 이미지 저장 (파일명은 원본 파일명과 동일)\n",
    "        save_path = os.path.join(save_folder, os.path.basename(image_path))\n",
    "        cropped_image.save(save_path)\n",
    "\n",
    "    print(f'01_cropped_images[{query}]에 저장 완료.')"
   ]
  },
  {
   "cell_type": "code",
   "execution_count": 3,
   "outputs": [],
   "source": [
    "for i in range(3):\n",
    "    crop_images(i)"
   ],
   "metadata": {
    "collapsed": false,
    "ExecuteTime": {
     "end_time": "2023-09-24T07:19:37.403328200Z",
     "start_time": "2023-09-24T07:19:37.399257100Z"
    }
   },
   "id": "350c4fd4298c565c"
  },
  {
   "cell_type": "markdown",
   "source": [
    "---"
   ],
   "metadata": {
    "collapsed": false
   },
   "id": "81c5a2bf0630c3e5"
  },
  {
   "cell_type": "markdown",
   "source": [
    "### **3. Define Function : Image Crop (Square Crop)**"
   ],
   "metadata": {
    "collapsed": false
   },
   "id": "e732c38736ec0c4"
  },
  {
   "cell_type": "code",
   "execution_count": null,
   "outputs": [],
   "source": [
    "input_folder = './01_cropped_images_circular/'\n",
    "\n",
    "new_width, new_height = 1934, 1934\n",
    "\n",
    "def crop_images_in_folder(query):\n",
    "    # 입력 폴더에서 이미지 파일 목록 가져오기\n",
    "    set_image_folder = input_folder + str(query) + '/'\n",
    "    image_files = glob.glob(os.path.join(set_image_folder, '*.jpg'))\n",
    "\n",
    "    save_folder = './02_cropped_images_square/' + str(query) + '/'\n",
    "    os.makedirs(save_folder, exist_ok=True)\n",
    "\n",
    "    # 출력 폴더가 없으면 생성\n",
    "    os.makedirs(save_folder, exist_ok=True)\n",
    "\n",
    "    for image_path in image_files:\n",
    "        # 이미지 열기\n",
    "        image = Image.open(image_path)\n",
    "\n",
    "        # 이미지 크기 조정\n",
    "        left = (image.width - new_width) / 2\n",
    "        right = (image.width + new_width) / 2\n",
    "        top = 0\n",
    "        bottom = new_height\n",
    "\n",
    "        # 이미지 자르기\n",
    "        cropped_image = image.crop((left, top, right, bottom))\n",
    "\n",
    "        # 이미지 저장 (파일명은 원본 파일명과 동일)\n",
    "        filename = os.path.basename(image_path)\n",
    "        output_image_path = os.path.join(save_folder, filename)\n",
    "        cropped_image.save(output_image_path)\n",
    "\n",
    "        # 이미지 닫기\n",
    "        image.close()\n",
    "\n",
    "    print(f\"{input_folder} 폴더 내의 이미지를 {new_width}x{new_height}로 크롭하여 {save_folder}에 저장하였습니다.\")"
   ],
   "metadata": {
    "collapsed": false
   },
   "id": "fe3061bb97a8cb3b"
  },
  {
   "cell_type": "code",
   "execution_count": null,
   "outputs": [],
   "source": [
    "for i in range(3):\n",
    "    crop_images_in_folder(i)"
   ],
   "metadata": {
    "collapsed": false
   },
   "id": "99c8463db6f93839"
  },
  {
   "cell_type": "markdown",
   "source": [
    "---"
   ],
   "metadata": {
    "collapsed": false,
    "ExecuteTime": {
     "end_time": "2023-09-24T06:04:02.659912Z",
     "start_time": "2023-09-24T06:04:02.648592Z"
    }
   },
   "id": "698eae66f9b7b2c1"
  },
  {
   "cell_type": "markdown",
   "source": [
    "### **3. Define Function : Rotate and Save**"
   ],
   "metadata": {
    "collapsed": false,
    "ExecuteTime": {
     "end_time": "2023-09-24T06:04:12.898848Z",
     "start_time": "2023-09-24T06:04:03.502788Z"
    }
   },
   "id": "580595cdf2f07484"
  },
  {
   "cell_type": "code",
   "execution_count": 4,
   "outputs": [],
   "source": [
    "# 이미지를 회전시키고 저장할 함수\n",
    "def rotate_and_save_image(input_path, output_folder):\n",
    "    try:\n",
    "        # 이미지 열기\n",
    "        image = Image.open(input_path)\n",
    "\n",
    "        # 360도를 24등분하여 15도씩 회전하면서 이미지 저장\n",
    "        for i in range(24):\n",
    "            angle = i * 15\n",
    "            rotated_image = image.rotate(angle)\n",
    "\n",
    "            # 회전된 이미지 파일명 설정\n",
    "            base_filename = os.path.splitext(os.path.basename(input_path))[0]\n",
    "            output_filename = f\"{base_filename}_{angle}.jpg\"\n",
    "            output_path = os.path.join(output_folder, output_filename)\n",
    "\n",
    "            # 회전된 이미지 저장\n",
    "            rotated_image.save(output_path)\n",
    "            rotated_image.close()\n",
    "        # 원본 이미지 파일 닫기\n",
    "        image.close()\n",
    "\n",
    "    except Exception as e:\n",
    "        print(f\"오류 발생: {e}\")\n",
    "\n",
    "    print(f\"{input_path}에서 24개의 이미지를 생성하여 {output_folder}에 저장되었습니다.\")\n",
    "\n",
    "def save_images(query):\n",
    "    # 입력 폴더와 출력 폴더 지정\n",
    "    input_folder = \"./02_cropped_images_square/\" + str(query) + '/'\n",
    "    os.makedirs(input_folder, exist_ok=True)\n",
    "    output_folder = \"./03_rotated_images/\" + str(query) + '/'\n",
    "    os.makedirs(output_folder, exist_ok=True)\n",
    "    \n",
    "    # 입력 폴더 내의 이미지 파일 목록 가져오기\n",
    "    image_files = [f for f in os.listdir(input_folder) if f.endswith(('.jpg', '.png', '.jpeg', '.gif'))]\n",
    "    \n",
    "    # 각 이미지를 15도씩 돌려서 24개의 이미지 생성\n",
    "    for image_file in image_files:\n",
    "        input_path = os.path.join(input_folder, image_file)\n",
    "        rotate_and_save_image(input_path, output_folder)"
   ],
   "metadata": {
    "collapsed": false,
    "ExecuteTime": {
     "end_time": "2023-09-24T07:19:37.413027700Z",
     "start_time": "2023-09-24T07:19:37.408810100Z"
    }
   },
   "id": "73565d3c6833e57d"
  },
  {
   "cell_type": "code",
   "execution_count": 5,
   "outputs": [],
   "source": [
    "# for i in range(3):\n",
    "#     save_images(i)"
   ],
   "metadata": {
    "collapsed": false,
    "ExecuteTime": {
     "end_time": "2023-09-24T07:19:37.417525300Z",
     "start_time": "2023-09-24T07:19:37.414808300Z"
    }
   },
   "id": "dbd4e2f45dc164af"
  },
  {
   "cell_type": "markdown",
   "source": [
    "---"
   ],
   "metadata": {
    "collapsed": false
   },
   "id": "f09fe51d"
  },
  {
   "cell_type": "markdown",
   "source": [
    "### **4. Define Function : Data Shuffle and Divide Train&Test**"
   ],
   "metadata": {
    "collapsed": false
   },
   "id": "a708917e"
  },
  {
   "cell_type": "code",
   "execution_count": 6,
   "outputs": [],
   "source": [
    "rotated_img_path = './03_rotated_images/'\n",
    "\n",
    "def data_shuffle(query):\n",
    "    shuffled_path = rotated_img_path + str(query) + '/'\n",
    "    # 이미지 파일 목록 가져오기\n",
    "    image_files = glob.glob(os.path.join(shuffled_path, '*.jpg'))\n",
    "    # 이미지 파일 목록을 numpy 배열로 변환\n",
    "    image_files = np.array(image_files)\n",
    "    # 이미지 파일 목록 섞기 (랜덤화)\n",
    "    np.random.shuffle(image_files)\n",
    "\n",
    "    # 추출할 이미지 개수 설정\n",
    "    num_images_to_extract = 1320\n",
    "    \n",
    "    # 이미지 파일 목록에서 무작위로 선택하여 train과 test로 나누기\n",
    "    selected_indices = np.random.choice(len(image_files), num_images_to_extract, replace=False)\n",
    "    train_images = selected_indices[:int(0.8 * num_images_to_extract)]\n",
    "    test_images = selected_indices[int(0.8 * num_images_to_extract):]\n",
    "\n",
    "    # train 이미지를 저장할 디렉토리 설정\n",
    "    train_folder = './dataset/train/' + str(query) + '/'\n",
    "    os.makedirs(train_folder, exist_ok=True)\n",
    "\n",
    "    # test 이미지를 저장할 디렉토리 설정\n",
    "    test_folder = './dataset/test/' + str(query) + '/'\n",
    "    os.makedirs(test_folder, exist_ok=True)\n",
    "\n",
    "    # train 이미지를 train 폴더에 복사\n",
    "    os.makedirs(train_folder, exist_ok=True)\n",
    "    for index in train_images:\n",
    "        image_file = image_files[index]\n",
    "        shutil.copy(image_file, os.path.join(train_folder, os.path.basename(image_file)))\n",
    "    \n",
    "    # test 이미지를 test 폴더에 복사\n",
    "    os.makedirs(test_folder, exist_ok=True)\n",
    "    for index in test_images:\n",
    "        image_file = image_files[index]\n",
    "        shutil.copy(image_file, os.path.join(test_folder, os.path.basename(image_file)))\n",
    "\n",
    "    return train_images, test_images"
   ],
   "metadata": {
    "collapsed": false,
    "ExecuteTime": {
     "end_time": "2023-09-24T07:19:37.449956Z",
     "start_time": "2023-09-24T07:19:37.423255300Z"
    }
   },
   "id": "3a7d320b"
  },
  {
   "cell_type": "code",
   "execution_count": 7,
   "outputs": [],
   "source": [
    "for i in range(3):\n",
    "    train_images, test_images = data_shuffle(i)"
   ],
   "metadata": {
    "collapsed": false,
    "ExecuteTime": {
     "end_time": "2023-09-24T07:19:37.449956Z",
     "start_time": "2023-09-24T07:19:37.429507300Z"
    }
   },
   "id": "bc6d02fbc0964f9e"
  },
  {
   "cell_type": "markdown",
   "source": [
    "---"
   ],
   "metadata": {
    "collapsed": false
   },
   "id": "13bc87c6"
  },
  {
   "cell_type": "markdown",
   "source": [
    "### **4. Image Visualization**"
   ],
   "metadata": {
    "collapsed": false
   },
   "id": "a71fc3c7"
  },
  {
   "cell_type": "code",
   "execution_count": 8,
   "outputs": [],
   "source": [
    "# # 이미지 폴더 경로 설정\n",
    "# image_folder = './01_cropped_images/'  # 적절한 경로로 변경하세요.\n",
    "# def img_show(query):\n",
    "#     img_show_path = image_folder + str(query) + '/'\n",
    "#     # 이미지 파일 목록 가져오기\n",
    "#     image_files = glob.glob(os.path.join(img_show_path, '*.jpg'))\n",
    "#     \n",
    "#     # 무작위로 4개의 이미지 인덱스 선택\n",
    "#     np.random.seed(42)  # 랜덤 시드를 고정하여 재현성 확보\n",
    "#     selected_indices = np.random.choice(len(image_files), 4, replace=False)\n",
    "#     \n",
    "#     # 선택된 이미지 시각화\n",
    "#     plt.figure(figsize=(12, 4))  # 그래프 크기 조절 (선택적)\n",
    "#     for i, idx in enumerate(selected_indices):\n",
    "#         image_path = image_files[idx]\n",
    "#         # 이미지 불러오기\n",
    "#         image = Image.open(image_path)\n",
    "#         # 파일 이름 추출\n",
    "#         file_name = os.path.basename(image_path)\n",
    "#     \n",
    "#         # subplot 추가\n",
    "#         plt.subplot(1, 4, i + 1)  # 1행 4열의 서브플롯\n",
    "#         plt.imshow(image)\n",
    "#         plt.title(f'[{query}] Image{i + 1}\\n{file_name}')  # 파일 이름 함께 표시\n",
    "#         plt.axis('off')  # 축 숨기기\n",
    "#     \n",
    "#     plt.show()"
   ],
   "metadata": {
    "collapsed": false,
    "ExecuteTime": {
     "end_time": "2023-09-24T07:19:37.449956Z",
     "start_time": "2023-09-24T07:19:37.436844500Z"
    }
   },
   "id": "c5796d39"
  },
  {
   "cell_type": "code",
   "execution_count": 9,
   "outputs": [],
   "source": [
    "# for i in range(3):\n",
    "#     img_show(i)"
   ],
   "metadata": {
    "collapsed": false,
    "ExecuteTime": {
     "end_time": "2023-09-24T07:19:37.449956Z",
     "start_time": "2023-09-24T07:19:37.442731300Z"
    }
   },
   "id": "70ea80f01e572eee"
  },
  {
   "cell_type": "markdown",
   "source": [
    "---"
   ],
   "metadata": {
    "collapsed": false,
    "ExecuteTime": {
     "end_time": "2023-09-24T06:55:40.579085Z",
     "start_time": "2023-09-24T06:55:37.499889Z"
    }
   },
   "id": "cc880879f7ac0159"
  }
 ],
 "metadata": {
  "kernelspec": {
   "display_name": "Python 3",
   "language": "python",
   "name": "python3"
  },
  "language_info": {
   "codemirror_mode": {
    "name": "ipython",
    "version": 3
   },
   "file_extension": ".py",
   "mimetype": "text/x-python",
   "name": "python",
   "nbconvert_exporter": "python",
   "pygments_lexer": "ipython3",
   "version": "3.11.4"
  }
 },
 "nbformat": 4,
 "nbformat_minor": 5
}
