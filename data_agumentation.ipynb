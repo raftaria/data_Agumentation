{
 "cells": [
  {
   "cell_type": "markdown",
   "id": "44858fee",
   "metadata": {},
   "source": [
    "---"
   ]
  },
  {
   "cell_type": "markdown",
   "id": "1be791e1",
   "metadata": {},
   "source": [
    "### **1. Import Module**"
   ]
  },
  {
   "cell_type": "code",
   "execution_count": 49,
   "id": "cc881fbb11172c1f",
   "metadata": {
    "ExecuteTime": {
     "end_time": "2023-09-16T10:53:41.677199Z",
     "start_time": "2023-09-16T10:53:37.786378Z"
    },
    "collapsed": false
   },
   "outputs": [],
   "source": [
    "import os\n",
    "import random\n",
    "import glob\n",
    "import matplotlib.pyplot as plt\n",
    "\n",
    "from PIL import Image, ImageDraw"
   ]
  },
  {
   "cell_type": "markdown",
   "id": "145f5a21e9bf3175",
   "metadata": {
    "collapsed": false
   },
   "source": [
    "---"
   ]
  },
  {
   "cell_type": "code",
   "execution_count": 42,
   "id": "7b4eea07",
   "metadata": {},
   "outputs": [],
   "source": [
    "# # 이미지가 있는 폴더 경로\n",
    "# image_folder = './modified_dataset/0/'  # 이미지 폴더 경로를 수정하세요.\n",
    "\n",
    "# # 이미지 파일 목록 가져오기\n",
    "# image_files = glob.glob(os.path.join(image_folder, '*.jpg'))\n",
    "\n",
    "# # 이미지 개수를 받아 그 만큼 Crop, Rotation\n",
    "# def random_cropRotation_image(img_num):\n",
    "#     # 5개의 무작위 이미지 선택\n",
    "#     selected_images = random.sample(image_files, img_num)\n",
    "\n",
    "#     for image_path in selected_images:\n",
    "#         # 이미지 불러오기\n",
    "#         image = Image.open(image_path)\n",
    "\n",
    "#         # 원 모양의 크롭 영역 생성\n",
    "#         center_x, center_y = image.width // 2, image.height // 2\n",
    "#         radius = min(center_x, center_y)  # 반지름을 이미지 크기의 최소 길이의 절반으로 설정\n",
    "#         mask = Image.new('L', image.size, 0)\n",
    "#         draw = ImageDraw.Draw(mask)\n",
    "#         draw.ellipse((center_x - radius, center_y - radius, center_x + radius, center_y + radius), fill=255)\n",
    "#         cropped_image = Image.composite(image, Image.new('RGB', image.size), mask)\n",
    "\n",
    "#         # 이미지 회전 (예: 45도)\n",
    "#         rotated_cropped_image = cropped_image.rotate(45)\n",
    "\n",
    "#         # 크롭된 이미지 및 회전된 이미지 출력\n",
    "#         plt.figure(figsize=(8, 4))\n",
    "\n",
    "#         plt.subplot(1, 2, 1)\n",
    "#         plt.imshow(cropped_image)\n",
    "#         plt.title('Cropped Image')\n",
    "\n",
    "#         plt.subplot(1, 2, 2)\n",
    "#         plt.imshow(rotated_cropped_image)\n",
    "#         plt.title('Rotated Cropped Image')\n",
    "\n",
    "#         plt.show()"
   ]
  },
  {
   "cell_type": "markdown",
   "id": "ace7882a",
   "metadata": {},
   "source": [
    "---"
   ]
  },
  {
   "cell_type": "markdown",
   "id": "08ba7335",
   "metadata": {},
   "source": [
    "### **2. Define Crop Function**"
   ]
  },
  {
   "cell_type": "code",
   "execution_count": 50,
   "id": "70df942f",
   "metadata": {},
   "outputs": [],
   "source": [
    "# 이미지 폴더 경로 설정\n",
    "image_folder = './modified_dataset/'\n",
    "\n",
    "# 이미지 개수를 받아 그 만큼 Crop\n",
    "def crop_image(query):\n",
    "    set_image_folder = image_folder + str(query) + '/'\n",
    "\n",
    "    # 이미지 파일 목록 가져오기\n",
    "    image_files = glob.glob(os.path.join(set_image_folder, '*.jpg'))\n",
    "\n",
    "    for image_path in image_files:\n",
    "        # 이미지 불러오기\n",
    "        image = Image.open(image_path)\n",
    "\n",
    "        # 원 모양의 크롭 영역 생성\n",
    "        center_x, center_y = image.width // 2, image.height // 2\n",
    "        radius = min(center_x, center_y)  # 반지름을 이미지 크기의 최소 길이의 절반으로 설정\n",
    "        mask = Image.new('L', image.size, 0)\n",
    "        draw = ImageDraw.Draw(mask)\n",
    "        draw.ellipse((center_x - radius, center_y - radius, center_x + radius, center_y + radius), fill=255)\n",
    "        cropped_image = Image.composite(image, Image.new('RGB', image.size), mask)\n",
    "\n",
    "        # 저장할 폴더 경로\n",
    "        save_folder = './cropped_dataset/' + str(query) + '/'  # 저장할 폴더 경로를 수정하세요.\n",
    "\n",
    "        # 이미지 저장 (파일명은 원본 파일명과 동일)\n",
    "        save_path = os.path.join(save_folder, os.path.basename(image_path))\n",
    "        cropped_image.save(save_path)"
   ]
  },
  {
   "cell_type": "markdown",
   "id": "f09fe51d",
   "metadata": {},
   "source": [
    "---"
   ]
  },
  {
   "cell_type": "markdown",
   "id": "a708917e",
   "metadata": {},
   "source": [
    "### **3. Define Data Shuffle Function**"
   ]
  },
  {
   "cell_type": "code",
   "execution_count": null,
   "id": "3a7d320b",
   "metadata": {},
   "outputs": [],
   "source": [
    "# 이미지 파일 목록 섞기 (랜덤화)\n",
    "random.shuffle(image_files)\n",
    "\n",
    "# 이미지 파일 목록을 train과 test로 8:2로 나누기\n",
    "total_images = len(image_files)\n",
    "train_ratio = 0.8  # train 비율 설정 (0.8은 80%를 train으로 사용)\n",
    "train_images = image_files[:int(total_images * train_ratio)]\n",
    "test_images = image_files[int(total_images * train_ratio):]"
   ]
  },
  {
   "cell_type": "code",
   "execution_count": 11,
   "id": "9c9b49f1",
   "metadata": {},
   "outputs": [
    {
     "name": "stdout",
     "output_type": "stream",
     "text": [
      "데이터 비율: 0.7980132450331126\n"
     ]
    }
   ],
   "source": [
    "print(\"데이터 비율: \" + str(len(train_images) / total_images))"
   ]
  },
  {
   "cell_type": "code",
   "execution_count": null,
   "id": "a318e0d4",
   "metadata": {},
   "outputs": [],
   "source": []
  },
  {
   "cell_type": "code",
   "execution_count": null,
   "id": "bceab164",
   "metadata": {},
   "outputs": [],
   "source": []
  },
  {
   "cell_type": "code",
   "execution_count": null,
   "id": "d1513c4b",
   "metadata": {},
   "outputs": [],
   "source": []
  },
  {
   "cell_type": "code",
   "execution_count": null,
   "id": "60e8fb3d",
   "metadata": {},
   "outputs": [],
   "source": []
  },
  {
   "cell_type": "markdown",
   "id": "13bc87c6",
   "metadata": {},
   "source": [
    "---"
   ]
  },
  {
   "cell_type": "markdown",
   "id": "a71fc3c7",
   "metadata": {},
   "source": [
    "### **00. Data Classification**"
   ]
  },
  {
   "cell_type": "code",
   "execution_count": 48,
   "id": "c5796d39",
   "metadata": {},
   "outputs": [
    {
     "name": "stdout",
     "output_type": "stream",
     "text": [
      "cropped_dataset[0]에 저장 완료.\n",
      "cropped_dataset[1]에 저장 완료.\n",
      "cropped_dataset[2]에 저장 완료.\n"
     ]
    }
   ],
   "source": [
    "for i in range(3):\n",
    "    crop_image(i)\n",
    "    print(\"cropped_dataset[\" + str(i) + \"]에 저장 완료.\")"
   ]
  },
  {
   "cell_type": "markdown",
   "id": "44fd6c9d",
   "metadata": {},
   "source": [
    "---"
   ]
  },
  {
   "cell_type": "code",
   "execution_count": null,
   "id": "6427f2b3",
   "metadata": {},
   "outputs": [],
   "source": [
    "# 이미지 회전 (예: 45도)\n",
    "rotated_cropped_image = cropped_image.rotate(45)\n",
    "\n",
    "# 크롭된 이미지 및 회전된 이미지 출력\n",
    "plt.figure(figsize=(8, 4))\n",
    "\n",
    "plt.subplot(1, 2, 1)\n",
    "plt.imshow(cropped_image)\n",
    "plt.title('Cropped Image')\n",
    "\n",
    "plt.subplot(1, 2, 2)\n",
    "plt.imshow(rotated_cropped_image)\n",
    "plt.title('Rotated Cropped Image')\n",
    "\n",
    "plt.show()"
   ]
  },
  {
   "cell_type": "code",
   "execution_count": null,
   "id": "dfa39bbe",
   "metadata": {},
   "outputs": [],
   "source": [
    "# # 선택한 이미지들을 처리하고 출력\n",
    "# for image_path in train_images:\n",
    "\n",
    "# for image_path in test_images:"
   ]
  },
  {
   "cell_type": "code",
   "execution_count": null,
   "id": "0ef71bcd",
   "metadata": {},
   "outputs": [],
   "source": []
  },
  {
   "cell_type": "code",
   "execution_count": null,
   "id": "84efce57",
   "metadata": {},
   "outputs": [],
   "source": []
  }
 ],
 "metadata": {
  "kernelspec": {
   "display_name": "Python 3",
   "language": "python",
   "name": "python3"
  },
  "language_info": {
   "codemirror_mode": {
    "name": "ipython",
    "version": 3
   },
   "file_extension": ".py",
   "mimetype": "text/x-python",
   "name": "python",
   "nbconvert_exporter": "python",
   "pygments_lexer": "ipython3",
   "version": "3.11.4"
  }
 },
 "nbformat": 4,
 "nbformat_minor": 5
}
