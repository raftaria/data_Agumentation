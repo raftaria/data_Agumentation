{
 "cells": [
  {
   "cell_type": "markdown",
   "id": "44858fee",
   "metadata": {},
   "source": [
    "---"
   ]
  },
  {
   "cell_type": "markdown",
   "id": "1be791e1",
   "metadata": {},
   "source": [
    "### **1. Import Module**"
   ]
  },
  {
   "cell_type": "code",
   "execution_count": 1,
   "id": "cc881fbb11172c1f",
   "metadata": {
    "collapsed": false,
    "ExecuteTime": {
     "end_time": "2023-09-24T06:43:52.789966Z",
     "start_time": "2023-09-24T06:43:44.099377Z"
    }
   },
   "outputs": [],
   "source": [
    "import os\n",
    "import glob\n",
    "import shutil\n",
    "import numpy as np\n",
    "import matplotlib.pyplot as plt\n",
    "\n",
    "from PIL import Image, ImageDraw"
   ]
  },
  {
   "cell_type": "markdown",
   "id": "145f5a21e9bf3175",
   "metadata": {
    "collapsed": false
   },
   "source": [
    "---"
   ]
  },
  {
   "cell_type": "markdown",
   "id": "08ba7335",
   "metadata": {},
   "source": [
    "### **2. Define Function : Image Crop (circular crop)**"
   ]
  },
  {
   "cell_type": "code",
   "execution_count": 2,
   "id": "70df942f",
   "metadata": {
    "ExecuteTime": {
     "end_time": "2023-09-24T06:43:52.790255Z",
     "start_time": "2023-09-24T06:43:44.687374Z"
    }
   },
   "outputs": [],
   "source": [
    "# 이미지 폴더 경로 설정\n",
    "image_folder_path = './00_modified_dataset/'\n",
    "\n",
    "# 이미지를 받아 Crop\n",
    "def crop_images(query):\n",
    "    set_image_folder = image_folder_path + str(query) + '/'\n",
    "    # 이미지 파일 목록 가져오기\n",
    "    image_files = glob.glob(os.path.join(set_image_folder, '*.jpg'))\n",
    "    # 저장할 폴더 경로\n",
    "    save_folder = './01_cropped_images' + str(query) + '/'\n",
    "\n",
    "    for image_path in image_files:\n",
    "        # 이미지 불러오기\n",
    "        image = Image.open(image_path)\n",
    "\n",
    "        # 원 모양의 크롭 영역 생성\n",
    "        center_x, center_y = image.width // 2, image.height // 2\n",
    "        radius = min(center_x, center_y)  # 반지름을 이미지 크기의 최소 길이의 절반으로 설정\n",
    "        mask = Image.new('L', image.size, 0)\n",
    "        draw = ImageDraw.Draw(mask)\n",
    "        draw.ellipse((center_x - radius, center_y - radius, center_x + radius, center_y + radius), fill=255)\n",
    "        cropped_image = Image.composite(image, Image.new('RGB', image.size), mask)\n",
    "\n",
    "        # 이미지 저장 (파일명은 원본 파일명과 동일)\n",
    "        save_path = os.path.join(save_folder, os.path.basename(image_path))\n",
    "        cropped_image.save(save_path)\n",
    "\n",
    "    print(f'01_cropped_images[{query}]에 저장 완료.')"
   ]
  },
  {
   "cell_type": "code",
   "execution_count": 3,
   "outputs": [
    {
     "name": "stdout",
     "output_type": "stream",
     "text": [
      "01_cropped_images[0]에 저장 완료.\n",
      "01_cropped_images[1]에 저장 완료.\n",
      "01_cropped_images[2]에 저장 완료.\n"
     ]
    }
   ],
   "source": [
    "# for i in range(3):\n",
    "#     crop_images(i)"
   ],
   "metadata": {
    "collapsed": false,
    "ExecuteTime": {
     "end_time": "2023-09-24T06:44:41.077838Z",
     "start_time": "2023-09-24T06:43:44.704278Z"
    }
   },
   "id": "350c4fd4298c565c"
  },
  {
   "cell_type": "markdown",
   "source": [
    "---"
   ],
   "metadata": {
    "collapsed": false,
    "ExecuteTime": {
     "end_time": "2023-09-24T06:04:02.659912Z",
     "start_time": "2023-09-24T06:04:02.648592Z"
    }
   },
   "id": "698eae66f9b7b2c1"
  },
  {
   "cell_type": "markdown",
   "source": [
    "### **3. Define Function : Rotate and Save**"
   ],
   "metadata": {
    "collapsed": false,
    "ExecuteTime": {
     "end_time": "2023-09-24T06:04:12.898848Z",
     "start_time": "2023-09-24T06:04:03.502788Z"
    }
   },
   "id": "580595cdf2f07484"
  },
  {
   "cell_type": "code",
   "execution_count": 4,
   "outputs": [],
   "source": [
    "# 이미지를 회전시키고 저장할 함수\n",
    "def rotate_and_save_image(input_path, output_folder):\n",
    "    try:\n",
    "        # 이미지 열기\n",
    "        image = Image.open(input_path)\n",
    "\n",
    "        # 360도를 24등분하여 15도씩 회전하면서 이미지 저장\n",
    "        for i in range(24):\n",
    "            angle = i * 15\n",
    "            rotated_image = image.rotate(angle)\n",
    "\n",
    "            # 회전된 이미지 파일명 설정\n",
    "            base_filename = os.path.splitext(os.path.basename(input_path))[0]\n",
    "            output_filename = f\"{base_filename}_{angle}.jpg\"\n",
    "            output_path = os.path.join(output_folder, output_filename)\n",
    "\n",
    "            # 회전된 이미지 저장\n",
    "            rotated_image.save(output_path)\n",
    "            rotated_image.close()\n",
    "        # 원본 이미지 파일 닫기\n",
    "        image.close()\n",
    "\n",
    "    except Exception as e:\n",
    "        print(f\"오류 발생: {e}\")\n",
    "\n",
    "    print(f\"{input_path}에서 24개의 이미지를 생성하여 {output_folder}에 저장되었습니다.\")\n",
    "\n",
    "def save_images(query):\n",
    "    # 입력 폴더와 출력 폴더 지정\n",
    "    input_folder = \"./01_cropped_images/\" + str(query) + '/'\n",
    "    output_folder = \"./02_rotated_images/\" + str(query) + '/'\n",
    "    \n",
    "    # 입력 폴더 내의 이미지 파일 목록 가져오기\n",
    "    image_files = [f for f in os.listdir(input_folder) if f.endswith(('.jpg', '.png', '.jpeg', '.gif'))]\n",
    "    \n",
    "    # 각 이미지를 15도씩 돌려서 24개의 이미지 생성\n",
    "    for image_file in image_files:\n",
    "        input_path = os.path.join(input_folder, image_file)\n",
    "        rotate_and_save_image(input_path, output_folder)"
   ],
   "metadata": {
    "collapsed": false,
    "ExecuteTime": {
     "end_time": "2023-09-24T06:44:41.079221Z",
     "start_time": "2023-09-24T06:44:41.075472Z"
    }
   },
   "id": "73565d3c6833e57d"
  },
  {
   "cell_type": "code",
   "execution_count": 5,
   "outputs": [
    {
     "name": "stdout",
     "output_type": "stream",
     "text": [
      "./01_cropped_images_circular/ 폴더 내의 이미지를 1934x1934로 크롭하여 ./02_cropped_images_square/0/에 저장하였습니다.\n",
      "./01_cropped_images_circular/ 폴더 내의 이미지를 1934x1934로 크롭하여 ./02_cropped_images_square/1/에 저장하였습니다.\n",
      "./01_cropped_images_circular/ 폴더 내의 이미지를 1934x1934로 크롭하여 ./02_cropped_images_square/2/에 저장하였습니다.\n"
     ]
    }
   ],
   "source": [
    "# for i in range(3):\n",
    "#     save_images(i)"
   ],
   "metadata": {
    "collapsed": false,
    "ExecuteTime": {
     "end_time": "2023-09-24T06:45:14.412816Z",
     "start_time": "2023-09-24T06:44:41.079790Z"
    }
   },
   "id": "dbd4e2f45dc164af"
  },
  {
   "cell_type": "markdown",
   "source": [
    "---"
   ],
   "metadata": {
    "collapsed": false
   },
   "id": "f09fe51d"
  },
  {
   "cell_type": "markdown",
   "source": [
    "### **4. Define Function : Data Shuffle and Divide Train&Test**"
   ],
   "metadata": {
    "collapsed": false
   },
   "id": "a708917e"
  },
  {
   "cell_type": "code",
   "execution_count": 10,
   "outputs": [],
   "source": [
    "rotated_img_path = './02_rotated_images/'\n",
    "\n",
    "def data_shuffle(query):\n",
    "    shuffled_path = rotated_img_path + str(query) + '/'\n",
    "    # 이미지 파일 목록 가져오기\n",
    "    image_files = glob.glob(os.path.join(shuffled_path, '*.jpg'))\n",
    "    # 이미지 파일 목록을 numpy 배열로 변환\n",
    "    image_files = np.array(image_files)\n",
    "    # 이미지 파일 목록 섞기 (랜덤화)\n",
    "    np.random.shuffle(image_files)\n",
    "\n",
    "    # # 이미지 파일 목록을 train과 test로 8:2로 나누기\n",
    "    # total_images = len(image_files)\n",
    "    # train_ratio = 0.8  # train 비율 설정 (0.8은 80%를 train으로 사용)\n",
    "    # train_images = image_files[:int(total_images * train_ratio)]\n",
    "    # test_images = image_files[int(total_images * train_ratio):]\n",
    "\n",
    "    # 추출할 이미지 개수 설정\n",
    "    num_images_to_extract = 1320\n",
    "    \n",
    "    # 이미지 파일 목록에서 무작위로 선택하여 train과 test로 나누기\n",
    "    selected_indices = np.random.choice(len(image_files), num_images_to_extract, replace=False)\n",
    "    train_images = selected_indices[:int(0.8 * num_images_to_extract)]\n",
    "    test_images = selected_indices[int(0.8 * num_images_to_extract):]\n",
    "\n",
    "    # train 이미지를 저장할 디렉토리 설정\n",
    "    train_folder = './03_dataset/train/' + str(query) + '/'\n",
    "    os.makedirs(train_folder, exist_ok=True)\n",
    "\n",
    "    # test 이미지를 저장할 디렉토리 설정\n",
    "    test_folder = './03_dataset/test/' + str(query) + '/'\n",
    "    os.makedirs(test_folder, exist_ok=True)\n",
    "\n",
    "    # train 이미지를 train 폴더에 복사\n",
    "    os.makedirs(train_folder, exist_ok=True)\n",
    "    for index in train_images:\n",
    "        image_file = image_files[index]\n",
    "        shutil.copy(image_file, os.path.join(train_folder, os.path.basename(image_file)))\n",
    "    \n",
    "    # test 이미지를 test 폴더에 복사\n",
    "    os.makedirs(test_folder, exist_ok=True)\n",
    "    for index in test_images:\n",
    "        image_file = image_files[index]\n",
    "        shutil.copy(image_file, os.path.join(test_folder, os.path.basename(image_file)))\n",
    "\n",
    "    return train_images, test_images"
   ],
   "metadata": {
    "collapsed": false,
    "ExecuteTime": {
     "end_time": "2023-09-24T06:46:09.029743Z",
     "start_time": "2023-09-24T06:46:09.025038Z"
    }
   },
   "id": "3a7d320b"
  },
  {
   "cell_type": "code",
   "execution_count": null,
   "outputs": [
    {
     "name": "stdout",
     "output_type": "stream",
     "text": [
      "./02_cropped_images_square/0/RET197OS.jpg에서 24개의 이미지를 생성하여 ./03_rotated_images/0/에 저장되었습니다.\n",
      "./02_cropped_images_square/0/RET197OD.jpg에서 24개의 이미지를 생성하여 ./03_rotated_images/0/에 저장되었습니다.\n",
      "./02_cropped_images_square/0/RET032OD.jpg에서 24개의 이미지를 생성하여 ./03_rotated_images/0/에 저장되었습니다.\n",
      "./02_cropped_images_square/0/RET032OS.jpg에서 24개의 이미지를 생성하여 ./03_rotated_images/0/에 저장되었습니다.\n",
      "./02_cropped_images_square/0/RET157OD.jpg에서 24개의 이미지를 생성하여 ./03_rotated_images/0/에 저장되었습니다.\n",
      "./02_cropped_images_square/0/RET256OD.jpg에서 24개의 이미지를 생성하여 ./03_rotated_images/0/에 저장되었습니다.\n",
      "./02_cropped_images_square/0/RET213OD.jpg에서 24개의 이미지를 생성하여 ./03_rotated_images/0/에 저장되었습니다.\n",
      "./02_cropped_images_square/0/RET256OS.jpg에서 24개의 이미지를 생성하여 ./03_rotated_images/0/에 저장되었습니다.\n",
      "./02_cropped_images_square/0/RET213OS.jpg에서 24개의 이미지를 생성하여 ./03_rotated_images/0/에 저장되었습니다.\n",
      "./02_cropped_images_square/0/RET272OS.jpg에서 24개의 이미지를 생성하여 ./03_rotated_images/0/에 저장되었습니다.\n",
      "./02_cropped_images_square/0/RET237OS.jpg에서 24개의 이미지를 생성하여 ./03_rotated_images/0/에 저장되었습니다.\n",
      "./02_cropped_images_square/0/RET272OD.jpg에서 24개의 이미지를 생성하여 ./03_rotated_images/0/에 저장되었습니다.\n",
      "./02_cropped_images_square/0/RET237OD.jpg에서 24개의 이미지를 생성하여 ./03_rotated_images/0/에 저장되었습니다.\n",
      "./02_cropped_images_square/0/RET136OS.jpg에서 24개의 이미지를 생성하여 ./03_rotated_images/0/에 저장되었습니다.\n",
      "./02_cropped_images_square/0/RET136OD.jpg에서 24개의 이미지를 생성하여 ./03_rotated_images/0/에 저장되었습니다.\n",
      "./02_cropped_images_square/0/RET208OD.jpg에서 24개의 이미지를 생성하여 ./03_rotated_images/0/에 저장되었습니다.\n",
      "./02_cropped_images_square/0/RET208OS.jpg에서 24개의 이미지를 생성하여 ./03_rotated_images/0/에 저장되었습니다.\n",
      "./02_cropped_images_square/0/RET029OD.jpg에서 24개의 이미지를 생성하여 ./03_rotated_images/0/에 저장되었습니다.\n",
      "./02_cropped_images_square/0/RET029OS.jpg에서 24개의 이미지를 생성하여 ./03_rotated_images/0/에 저장되었습니다.\n",
      "./02_cropped_images_square/0/RET171OD.jpg에서 24개의 이미지를 생성하여 ./03_rotated_images/0/에 저장되었습니다.\n",
      "./02_cropped_images_square/0/RET134OD.jpg에서 24개의 이미지를 생성하여 ./03_rotated_images/0/에 저장되었습니다.\n",
      "./02_cropped_images_square/0/RET171OS.jpg에서 24개의 이미지를 생성하여 ./03_rotated_images/0/에 저장되었습니다.\n",
      "./02_cropped_images_square/0/RET134OS.jpg에서 24개의 이미지를 생성하여 ./03_rotated_images/0/에 저장되었습니다.\n",
      "./02_cropped_images_square/0/RET270OD.jpg에서 24개의 이미지를 생성하여 ./03_rotated_images/0/에 저장되었습니다.\n",
      "./02_cropped_images_square/0/RET235OD.jpg에서 24개의 이미지를 생성하여 ./03_rotated_images/0/에 저장되었습니다.\n",
      "./02_cropped_images_square/0/RET270OS.jpg에서 24개의 이미지를 생성하여 ./03_rotated_images/0/에 저장되었습니다.\n",
      "./02_cropped_images_square/0/RET235OS.jpg에서 24개의 이미지를 생성하여 ./03_rotated_images/0/에 저장되었습니다.\n",
      "./02_cropped_images_square/0/RET254OS.jpg에서 24개의 이미지를 생성하여 ./03_rotated_images/0/에 저장되었습니다.\n",
      "./02_cropped_images_square/0/RET211OS.jpg에서 24개의 이미지를 생성하여 ./03_rotated_images/0/에 저장되었습니다.\n",
      "./02_cropped_images_square/0/RET254OD.jpg에서 24개의 이미지를 생성하여 ./03_rotated_images/0/에 저장되었습니다.\n",
      "./02_cropped_images_square/0/RET211OD.jpg에서 24개의 이미지를 생성하여 ./03_rotated_images/0/에 저장되었습니다.\n",
      "./02_cropped_images_square/0/RET155OS.jpg에서 24개의 이미지를 생성하여 ./03_rotated_images/0/에 저장되었습니다.\n",
      "./02_cropped_images_square/0/RET155OD.jpg에서 24개의 이미지를 생성하여 ./03_rotated_images/0/에 저장되었습니다.\n",
      "./02_cropped_images_square/0/RET269OS.jpg에서 24개의 이미지를 생성하여 ./03_rotated_images/0/에 저장되었습니다.\n",
      "./02_cropped_images_square/0/RET269OD.jpg에서 24개의 이미지를 생성하여 ./03_rotated_images/0/에 저장되었습니다.\n",
      "./02_cropped_images_square/0/RET030OS.jpg에서 24개의 이미지를 생성하여 ./03_rotated_images/0/에 저장되었습니다.\n",
      "./02_cropped_images_square/0/RET030OD.jpg에서 24개의 이미지를 생성하여 ./03_rotated_images/0/에 저장되었습니다.\n",
      "./02_cropped_images_square/0/RET151OS.jpg에서 24개의 이미지를 생성하여 ./03_rotated_images/0/에 저장되었습니다.\n",
      "./02_cropped_images_square/0/RET151OD.jpg에서 24개의 이미지를 생성하여 ./03_rotated_images/0/에 저장되었습니다.\n",
      "./02_cropped_images_square/0/RET250OS.jpg에서 24개의 이미지를 생성하여 ./03_rotated_images/0/에 저장되었습니다.\n",
      "./02_cropped_images_square/0/RET215OS.jpg에서 24개의 이미지를 생성하여 ./03_rotated_images/0/에 저장되었습니다.\n",
      "./02_cropped_images_square/0/RET250OD.jpg에서 24개의 이미지를 생성하여 ./03_rotated_images/0/에 저장되었습니다.\n",
      "./02_cropped_images_square/0/RET215OD.jpg에서 24개의 이미지를 생성하여 ./03_rotated_images/0/에 저장되었습니다.\n",
      "./02_cropped_images_square/0/RET034OS.jpg에서 24개의 이미지를 생성하여 ./03_rotated_images/0/에 저장되었습니다.\n",
      "./02_cropped_images_square/0/RET034OD.jpg에서 24개의 이미지를 생성하여 ./03_rotated_images/0/에 저장되었습니다.\n",
      "./02_cropped_images_square/0/RET191OD.jpg에서 24개의 이미지를 생성하여 ./03_rotated_images/0/에 저장되었습니다.\n",
      "./02_cropped_images_square/0/RET228OS.jpg에서 24개의 이미지를 생성하여 ./03_rotated_images/0/에 저장되었습니다.\n",
      "./02_cropped_images_square/0/RET191OS.jpg에서 24개의 이미지를 생성하여 ./03_rotated_images/0/에 저장되었습니다.\n",
      "./02_cropped_images_square/0/RET228OD.jpg에서 24개의 이미지를 생성하여 ./03_rotated_images/0/에 저장되었습니다.\n",
      "./02_cropped_images_square/0/RET290OD.jpg에서 24개의 이미지를 생성하여 ./03_rotated_images/0/에 저장되었습니다.\n",
      "./02_cropped_images_square/0/RET129OS.jpg에서 24개의 이미지를 생성하여 ./03_rotated_images/0/에 저장되었습니다.\n",
      "./02_cropped_images_square/0/RET290OS.jpg에서 24개의 이미지를 생성하여 ./03_rotated_images/0/에 저장되었습니다.\n",
      "./02_cropped_images_square/0/RET129OD.jpg에서 24개의 이미지를 생성하여 ./03_rotated_images/0/에 저장되었습니다.\n",
      "./02_cropped_images_square/0/RET249OD.jpg에서 24개의 이미지를 생성하여 ./03_rotated_images/0/에 저장되었습니다.\n",
      "./02_cropped_images_square/0/RET249OS.jpg에서 24개의 이미지를 생성하여 ./03_rotated_images/0/에 저장되었습니다.\n",
      "./02_cropped_images_square/0/RET188OS.jpg에서 24개의 이미지를 생성하여 ./03_rotated_images/0/에 저장되었습니다.\n",
      "./02_cropped_images_square/0/RET274OD.jpg에서 24개의 이미지를 생성하여 ./03_rotated_images/0/에 저장되었습니다.\n",
      "./02_cropped_images_square/0/RET231OD.jpg에서 24개의 이미지를 생성하여 ./03_rotated_images/0/에 저장되었습니다.\n",
      "./02_cropped_images_square/0/RET188OD.jpg에서 24개의 이미지를 생성하여 ./03_rotated_images/0/에 저장되었습니다.\n",
      "./02_cropped_images_square/0/RET274OS.jpg에서 24개의 이미지를 생성하여 ./03_rotated_images/0/에 저장되었습니다.\n",
      "./02_cropped_images_square/0/RET231OS.jpg에서 24개의 이미지를 생성하여 ./03_rotated_images/0/에 저장되었습니다.\n",
      "./02_cropped_images_square/0/RET289OS.jpg에서 24개의 이미지를 생성하여 ./03_rotated_images/0/에 저장되었습니다.\n",
      "./02_cropped_images_square/0/RET130OD.jpg에서 24개의 이미지를 생성하여 ./03_rotated_images/0/에 저장되었습니다.\n",
      "./02_cropped_images_square/0/RET289OD.jpg에서 24개의 이미지를 생성하여 ./03_rotated_images/0/에 저장되었습니다.\n",
      "./02_cropped_images_square/0/RET130OS.jpg에서 24개의 이미지를 생성하여 ./03_rotated_images/0/에 저장되었습니다.\n",
      "./02_cropped_images_square/0/RET177OS.jpg에서 24개의 이미지를 생성하여 ./03_rotated_images/0/에 저장되었습니다.\n",
      "./02_cropped_images_square/0/RET132OS.jpg에서 24개의 이미지를 생성하여 ./03_rotated_images/0/에 저장되었습니다.\n",
      "./02_cropped_images_square/0/RET177OD.jpg에서 24개의 이미지를 생성하여 ./03_rotated_images/0/에 저장되었습니다.\n",
      "./02_cropped_images_square/0/RET132OD.jpg에서 24개의 이미지를 생성하여 ./03_rotated_images/0/에 저장되었습니다.\n",
      "./02_cropped_images_square/0/RET036OD.jpg에서 24개의 이미지를 생성하여 ./03_rotated_images/0/에 저장되었습니다.\n",
      "./02_cropped_images_square/0/RET036OS.jpg에서 24개의 이미지를 생성하여 ./03_rotated_images/0/에 저장되었습니다.\n",
      "./02_cropped_images_square/0/RET292OS.jpg에서 24개의 이미지를 생성하여 ./03_rotated_images/0/에 저장되었습니다.\n",
      "./02_cropped_images_square/0/RET292OD.jpg에서 24개의 이미지를 생성하여 ./03_rotated_images/0/에 저장되었습니다.\n",
      "./02_cropped_images_square/0/RET252OD.jpg에서 24개의 이미지를 생성하여 ./03_rotated_images/0/에 저장되었습니다.\n",
      "./02_cropped_images_square/0/RET252OS.jpg에서 24개의 이미지를 생성하여 ./03_rotated_images/0/에 저장되었습니다.\n",
      "./02_cropped_images_square/0/RET153OD.jpg에서 24개의 이미지를 생성하여 ./03_rotated_images/0/에 저장되었습니다.\n",
      "./02_cropped_images_square/0/RET116OD.jpg에서 24개의 이미지를 생성하여 ./03_rotated_images/0/에 저장되었습니다.\n"
     ]
    }
   ],
   "source": [
    "# for i in range(3):\n",
    "#     train_images, test_images = data_shuffle(i)"
   ],
   "metadata": {
    "collapsed": false,
    "is_executing": true,
    "ExecuteTime": {
     "start_time": "2023-09-24T06:46:11.545170Z"
    }
   },
   "id": "bc6d02fbc0964f9e"
  },
  {
   "cell_type": "markdown",
   "source": [
    "---"
   ],
   "metadata": {
    "collapsed": false
   },
   "id": "13bc87c6"
  },
  {
   "cell_type": "markdown",
   "source": [
    "### **4. Image Visualization**"
   ],
   "metadata": {
    "collapsed": false
   },
   "id": "a71fc3c7"
  },
  {
   "cell_type": "code",
   "execution_count": 8,
   "outputs": [],
   "source": [
    "# # 이미지 폴더 경로 설정\n",
    "# image_folder = './01_cropped_images/'  # 적절한 경로로 변경하세요.\n",
    "# def img_show(query):\n",
    "#     img_show_path = image_folder + str(query) + '/'\n",
    "#     # 이미지 파일 목록 가져오기\n",
    "#     image_files = glob.glob(os.path.join(img_show_path, '*.jpg'))\n",
    "#     \n",
    "#     # 무작위로 4개의 이미지 인덱스 선택\n",
    "#     np.random.seed(42)  # 랜덤 시드를 고정하여 재현성 확보\n",
    "#     selected_indices = np.random.choice(len(image_files), 4, replace=False)\n",
    "#     \n",
    "#     # 선택된 이미지 시각화\n",
    "#     plt.figure(figsize=(12, 4))  # 그래프 크기 조절 (선택적)\n",
    "#     for i, idx in enumerate(selected_indices):\n",
    "#         image_path = image_files[idx]\n",
    "#         # 이미지 불러오기\n",
    "#         image = Image.open(image_path)\n",
    "#         # 파일 이름 추출\n",
    "#         file_name = os.path.basename(image_path)\n",
    "#     \n",
    "#         # subplot 추가\n",
    "#         plt.subplot(1, 4, i + 1)  # 1행 4열의 서브플롯\n",
    "#         plt.imshow(image)\n",
    "#         plt.title(f'[{query}] Image{i + 1}\\n{file_name}')  # 파일 이름 함께 표시\n",
    "#         plt.axis('off')  # 축 숨기기\n",
    "#     \n",
    "#     plt.show()"
   ],
   "metadata": {
    "collapsed": false,
    "ExecuteTime": {
     "end_time": "2023-09-24T06:45:29.059767Z",
     "start_time": "2023-09-24T06:45:29.041989Z"
    }
   },
   "id": "c5796d39"
  },
  {
   "cell_type": "code",
   "execution_count": 12,
   "outputs": [],
   "source": [
    "# for i in range(3):\n",
    "#     img_show(i)"
   ],
   "metadata": {
    "collapsed": false,
    "ExecuteTime": {
     "end_time": "2023-09-24T06:55:35.061719Z",
     "start_time": "2023-09-24T06:55:35.058699Z"
    }
   },
   "id": "70ea80f01e572eee"
  },
  {
   "cell_type": "markdown",
   "source": [
    "---"
   ],
   "metadata": {
    "collapsed": false,
    "ExecuteTime": {
     "end_time": "2023-09-24T06:55:40.579085Z",
     "start_time": "2023-09-24T06:55:37.499889Z"
    }
   },
   "id": "cc880879f7ac0159"
  },
  {
   "cell_type": "code",
   "execution_count": null,
   "outputs": [],
   "source": [],
   "metadata": {
    "collapsed": false,
    "ExecuteTime": {
     "start_time": "2023-09-24T06:08:09.193623Z"
    }
   },
   "id": "5a95e2049a5c71ae"
  },
  {
   "cell_type": "markdown",
   "source": [
    "---"
   ],
   "metadata": {
    "collapsed": false,
    "ExecuteTime": {
     "end_time": "2023-09-24T06:45:29.957110Z",
     "start_time": "2023-09-24T06:45:29.945034Z"
    }
   },
   "id": "e64969ac48720c67"
  },
  {
   "cell_type": "code",
   "execution_count": null,
   "outputs": [],
   "source": [
    "# # 이미지가 있는 폴더 경로\n",
    "# image_folder = './modified_dataset/0/'  # 이미지 폴더 경로를 수정하세요.\n",
    "\n",
    "# # 이미지 파일 목록 가져오기\n",
    "# image_files = glob.glob(os.path.join(image_folder, '*.jpg'))\n",
    "\n",
    "# # 이미지 개수를 받아 그 만큼 Crop, Rotation\n",
    "# def random_cropRotation_image(img_num):\n",
    "#     # 5개의 무작위 이미지 선택\n",
    "#     selected_images = random.sample(image_files, img_num)\n",
    "\n",
    "#     for image_path in selected_images:\n",
    "#         # 이미지 불러오기\n",
    "#         image = Image.open(image_path)\n",
    "\n",
    "#         # 원 모양의 크롭 영역 생성\n",
    "#         center_x, center_y = image.width // 2, image.height // 2\n",
    "#         radius = min(center_x, center_y)  # 반지름을 이미지 크기의 최소 길이의 절반으로 설정\n",
    "#         mask = Image.new('L', image.size, 0)\n",
    "#         draw = ImageDraw.Draw(mask)\n",
    "#         draw.ellipse((center_x - radius, center_y - radius, center_x + radius, center_y + radius), fill=255)\n",
    "#         cropped_image = Image.composite(image, Image.new('RGB', image.size), mask)\n",
    "\n",
    "#         # 이미지 회전 (예: 45도)\n",
    "#         rotated_cropped_image = cropped_image.rotate(45)\n",
    "\n",
    "#         # 크롭된 이미지 및 회전된 이미지 출력\n",
    "#         plt.figure(figsize=(8, 4))\n",
    "\n",
    "#         plt.subplot(1, 2, 1)\n",
    "#         plt.imshow(cropped_image)\n",
    "#         plt.title('Cropped Image')\n",
    "\n",
    "#         plt.subplot(1, 2, 2)\n",
    "#         plt.imshow(rotated_cropped_image)\n",
    "#         plt.title('Rotated Cropped Image')\n",
    "\n",
    "#         plt.show()"
   ],
   "metadata": {
    "collapsed": false,
    "ExecuteTime": {
     "start_time": "2023-09-24T06:45:29.952421Z"
    }
   },
   "id": "7b4eea07"
  }
 ],
 "metadata": {
  "kernelspec": {
   "display_name": "Python 3",
   "language": "python",
   "name": "python3"
  },
  "language_info": {
   "codemirror_mode": {
    "name": "ipython",
    "version": 3
   },
   "file_extension": ".py",
   "mimetype": "text/x-python",
   "name": "python",
   "nbconvert_exporter": "python",
   "pygments_lexer": "ipython3",
   "version": "3.11.4"
  }
 },
 "nbformat": 4,
 "nbformat_minor": 5
}
