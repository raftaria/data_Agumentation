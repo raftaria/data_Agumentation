{
 "cells": [
  {
   "cell_type": "markdown",
   "id": "44858fee",
   "metadata": {},
   "source": [
    "---"
   ]
  },
  {
   "cell_type": "markdown",
   "id": "1be791e1",
   "metadata": {},
   "source": [
    "### **1. Import Module**"
   ]
  },
  {
   "cell_type": "code",
   "execution_count": 7,
   "id": "cc881fbb11172c1f",
   "metadata": {
    "ExecuteTime": {
     "end_time": "2023-09-16T10:53:41.677199Z",
     "start_time": "2023-09-16T10:53:37.786378Z"
    },
    "collapsed": false
   },
   "outputs": [],
   "source": [
    "import os\n",
    "import random\n",
    "import glob\n",
    "import matplotlib.pyplot as plt\n",
    "\n",
    "from PIL import Image, ImageDraw"
   ]
  },
  {
   "cell_type": "markdown",
   "id": "145f5a21e9bf3175",
   "metadata": {
    "collapsed": false
   },
   "source": [
    "---"
   ]
  },
  {
   "cell_type": "code",
   "execution_count": 8,
   "id": "7b4eea07",
   "metadata": {},
   "outputs": [],
   "source": [
    "# # 이미지가 있는 폴더 경로\n",
    "# image_folder = './modified_dataset/0/'  # 이미지 폴더 경로를 수정하세요.\n",
    "\n",
    "# # 이미지 파일 목록 가져오기\n",
    "# image_files = glob.glob(os.path.join(image_folder, '*.jpg'))\n",
    "\n",
    "# # 이미지 개수를 받아 그 만큼 Crop, Rotation\n",
    "# def random_cropRotation_image(img_num):\n",
    "#     # 5개의 무작위 이미지 선택\n",
    "#     selected_images = random.sample(image_files, img_num)\n",
    "\n",
    "#     for image_path in selected_images:\n",
    "#         # 이미지 불러오기\n",
    "#         image = Image.open(image_path)\n",
    "\n",
    "#         # 원 모양의 크롭 영역 생성\n",
    "#         center_x, center_y = image.width // 2, image.height // 2\n",
    "#         radius = min(center_x, center_y)  # 반지름을 이미지 크기의 최소 길이의 절반으로 설정\n",
    "#         mask = Image.new('L', image.size, 0)\n",
    "#         draw = ImageDraw.Draw(mask)\n",
    "#         draw.ellipse((center_x - radius, center_y - radius, center_x + radius, center_y + radius), fill=255)\n",
    "#         cropped_image = Image.composite(image, Image.new('RGB', image.size), mask)\n",
    "\n",
    "#         # 이미지 회전 (예: 45도)\n",
    "#         rotated_cropped_image = cropped_image.rotate(45)\n",
    "\n",
    "#         # 크롭된 이미지 및 회전된 이미지 출력\n",
    "#         plt.figure(figsize=(8, 4))\n",
    "\n",
    "#         plt.subplot(1, 2, 1)\n",
    "#         plt.imshow(cropped_image)\n",
    "#         plt.title('Cropped Image')\n",
    "\n",
    "#         plt.subplot(1, 2, 2)\n",
    "#         plt.imshow(rotated_cropped_image)\n",
    "#         plt.title('Rotated Cropped Image')\n",
    "\n",
    "#         plt.show()"
   ]
  },
  {
   "cell_type": "markdown",
   "id": "ace7882a",
   "metadata": {},
   "source": [
    "---"
   ]
  },
  {
   "cell_type": "markdown",
   "id": "08ba7335",
   "metadata": {},
   "source": [
    "### **2. Define Crop Function**"
   ]
  },
  {
   "cell_type": "code",
   "execution_count": 9,
   "id": "70df942f",
   "metadata": {},
   "outputs": [],
   "source": [
    "# 이미지 폴더 경로 설정\n",
    "image_folder = './modified_dataset/'\n",
    "\n",
    "# 이미지 개수를 받아 그 만큼 Crop\n",
    "def crop_image(query):\n",
    "    set_image_folder = image_folder + str(query) + '/'\n",
    "\n",
    "    # 이미지 파일 목록 가져오기\n",
    "    image_files = glob.glob(os.path.join(set_image_folder, '*.jpg'))\n",
    "\n",
    "    for image_path in image_files:\n",
    "        # 이미지 불러오기\n",
    "        image = Image.open(image_path)\n",
    "\n",
    "        # 원 모양의 크롭 영역 생성\n",
    "        center_x, center_y = image.width // 2, image.height // 2\n",
    "        radius = min(center_x, center_y)  # 반지름을 이미지 크기의 최소 길이의 절반으로 설정\n",
    "        mask = Image.new('L', image.size, 0)\n",
    "        draw = ImageDraw.Draw(mask)\n",
    "        draw.ellipse((center_x - radius, center_y - radius, center_x + radius, center_y + radius), fill=255)\n",
    "        cropped_image = Image.composite(image, Image.new('RGB', image.size), mask)\n",
    "\n",
    "        # 저장할 폴더 경로\n",
    "        save_folder = './cropped_dataset/' + str(query) + '/'  # 저장할 폴더 경로를 수정하세요.\n",
    "\n",
    "        # 이미지 저장 (파일명은 원본 파일명과 동일)\n",
    "        save_path = os.path.join(save_folder, os.path.basename(image_path))\n",
    "        cropped_image.save(save_path)\n",
    "\n",
    "    print(\"cropped_dataset[\" + str(i) + \"]에 저장 완료.\")"
   ]
  },
  {
   "cell_type": "markdown",
   "id": "f09fe51d",
   "metadata": {},
   "source": [
    "---"
   ]
  },
  {
   "cell_type": "markdown",
   "id": "a708917e",
   "metadata": {},
   "source": [
    "### **3. Define Data Shuffle Function**"
   ]
  },
  {
   "cell_type": "code",
   "execution_count": 21,
   "id": "3a7d320b",
   "metadata": {},
   "outputs": [],
   "source": [
    "cropped_img_path = './cropped_dataset/'\n",
    "\n",
    "def dataShuffle(query):\n",
    "    str_query = str(query)\n",
    "    shuffled_path = cropped_img_path + str_query + '/'\n",
    "\n",
    "    # 이미지 파일 목록 가져오기\n",
    "    image_files = glob.glob(os.path.join(shuffled_path, '*.jpg'))\n",
    "\n",
    "    # 이미지 파일 목록 섞기 (랜덤화)\n",
    "    random.shuffle(image_files)\n",
    "\n",
    "    # 이미지 파일 목록을 train과 test로 8:2로 나누기\n",
    "    total_images = len(image_files)\n",
    "    train_ratio = 0.8  # train 비율 설정 (0.8은 80%를 train으로 사용)\n",
    "    train_images = image_files[:int(total_images * train_ratio)]\n",
    "    test_images = image_files[int(total_images * train_ratio):]\n",
    "\n",
    "    print(\"========== data_shuffled[\" + str(query) + \"] ==========\")\n",
    "    print(\"학습 데이터 비율:\", len(train_images) / total_images)\n",
    "    print(\"테스트 데이터 비율:\", len(test_images) / total_images)\n",
    "    \n",
    "    print(\"train_data:\", train_images)\n",
    "    print(\"test_data:\", test_images)\n",
    "    print()"
   ]
  },
  {
   "cell_type": "code",
   "execution_count": null,
   "id": "9c9b49f1",
   "metadata": {},
   "outputs": [],
   "source": []
  },
  {
   "cell_type": "code",
   "execution_count": null,
   "id": "60e8fb3d",
   "metadata": {},
   "outputs": [],
   "source": []
  },
  {
   "cell_type": "markdown",
   "id": "13bc87c6",
   "metadata": {},
   "source": [
    "---"
   ]
  },
  {
   "cell_type": "markdown",
   "id": "a71fc3c7",
   "metadata": {},
   "source": [
    "### **00. Data Classification**"
   ]
  },
  {
   "cell_type": "code",
   "execution_count": 11,
   "id": "c5796d39",
   "metadata": {},
   "outputs": [],
   "source": [
    "for i in range(3):\n",
    "    crop_image(i)"
   ]
  },
  {
   "cell_type": "code",
   "execution_count": 22,
   "id": "c888f8d7",
   "metadata": {},
   "outputs": [
    {
     "name": "stdout",
     "output_type": "stream",
     "text": [
      "========== data_shuffled[0] ==========\n",
      "학습 데이터 비율: 0.7980132450331126\n",
      "테스트 데이터 비율: 0.20198675496688742\n",
      "train_data: ['./cropped_dataset/0\\\\RET187OS.jpg', './cropped_dataset/0\\\\RET236OS.jpg', './cropped_dataset/0\\\\RET229OD.jpg', './cropped_dataset/0\\\\RET159OS.jpg', './cropped_dataset/0\\\\RET270OD.jpg', './cropped_dataset/0\\\\RET197OS.jpg', './cropped_dataset/0\\\\RET231OS.jpg', './cropped_dataset/0\\\\RET182OD.jpg', './cropped_dataset/0\\\\RET181OS.jpg', './cropped_dataset/0\\\\RET034OD.jpg', './cropped_dataset/0\\\\RET138OS.jpg', './cropped_dataset/0\\\\RET158OD.jpg', './cropped_dataset/0\\\\RET215OS.jpg', './cropped_dataset/0\\\\RET155OD.jpg', './cropped_dataset/0\\\\RET219OS.jpg', './cropped_dataset/0\\\\RET210OD.jpg', './cropped_dataset/0\\\\RET207OS.jpg', './cropped_dataset/0\\\\RET177OS.jpg', './cropped_dataset/0\\\\RET134OD.jpg', './cropped_dataset/0\\\\RET260OS.jpg', './cropped_dataset/0\\\\RET241OD.jpg', './cropped_dataset/0\\\\RET125OS.jpg', './cropped_dataset/0\\\\RET183OD.jpg', './cropped_dataset/0\\\\RET240OD.jpg', './cropped_dataset/0\\\\RET234OD.jpg', './cropped_dataset/0\\\\RET260OD.jpg', './cropped_dataset/0\\\\RET028OS.jpg', './cropped_dataset/0\\\\RET134OS.jpg', './cropped_dataset/0\\\\RET201OD.jpg', './cropped_dataset/0\\\\RET192OD.jpg', './cropped_dataset/0\\\\RET205OD.jpg', './cropped_dataset/0\\\\RET236OD.jpg', './cropped_dataset/0\\\\RET031OD.jpg', './cropped_dataset/0\\\\RET232OS.jpg', './cropped_dataset/0\\\\RET258OD.jpg', './cropped_dataset/0\\\\RET139OS.jpg', './cropped_dataset/0\\\\RET198OD.jpg', './cropped_dataset/0\\\\RET129OD.jpg', './cropped_dataset/0\\\\RET176OS.jpg', './cropped_dataset/0\\\\RET250OS.jpg', './cropped_dataset/0\\\\RET254OD.jpg', './cropped_dataset/0\\\\RET269OS.jpg', './cropped_dataset/0\\\\RET202OS.jpg', './cropped_dataset/0\\\\RET208OD.jpg', './cropped_dataset/0\\\\RET256OD.jpg', './cropped_dataset/0\\\\RET037OD.jpg', './cropped_dataset/0\\\\RET179OD.jpg', './cropped_dataset/0\\\\RET152OS.jpg', './cropped_dataset/0\\\\RET037OS.jpg', './cropped_dataset/0\\\\RET201OS.jpg', './cropped_dataset/0\\\\RET156OS.jpg', './cropped_dataset/0\\\\RET262OS.jpg', './cropped_dataset/0\\\\RET028OD.jpg', './cropped_dataset/0\\\\RET189OS.jpg', './cropped_dataset/0\\\\RET187OD.jpg', './cropped_dataset/0\\\\RET289OD.jpg', './cropped_dataset/0\\\\RET281OS.jpg', './cropped_dataset/0\\\\RET036OD.jpg', './cropped_dataset/0\\\\RET206OD.jpg', './cropped_dataset/0\\\\RET251OD.jpg', './cropped_dataset/0\\\\RET194OS.jpg', './cropped_dataset/0\\\\RET282OD.jpg', './cropped_dataset/0\\\\RET243OS.jpg', './cropped_dataset/0\\\\RET136OS.jpg', './cropped_dataset/0\\\\RET261OD.jpg', './cropped_dataset/0\\\\RET216OD.jpg', './cropped_dataset/0\\\\RET200OS.jpg', './cropped_dataset/0\\\\RET184OD.jpg', './cropped_dataset/0\\\\RET228OS.jpg', './cropped_dataset/0\\\\RET270OS.jpg', './cropped_dataset/0\\\\RET243OD.jpg', './cropped_dataset/0\\\\RET261OS.jpg', './cropped_dataset/0\\\\RET285OS.jpg', './cropped_dataset/0\\\\RET253OS.jpg', './cropped_dataset/0\\\\RET176OD.jpg', './cropped_dataset/0\\\\RET215OD.jpg', './cropped_dataset/0\\\\RET223OD.jpg', './cropped_dataset/0\\\\RET029OD.jpg', './cropped_dataset/0\\\\RET166OS.jpg', './cropped_dataset/0\\\\RET151OS.jpg', './cropped_dataset/0\\\\RET284OS.jpg', './cropped_dataset/0\\\\RET199OD.jpg', './cropped_dataset/0\\\\RET286OD.jpg', './cropped_dataset/0\\\\RET258OS.jpg', './cropped_dataset/0\\\\RET220OD.jpg', './cropped_dataset/0\\\\RET249OS.jpg', './cropped_dataset/0\\\\RET160OD.jpg', './cropped_dataset/0\\\\RET244OD.jpg', './cropped_dataset/0\\\\RET250OD.jpg', './cropped_dataset/0\\\\RET252OS.jpg', './cropped_dataset/0\\\\RET189OD.jpg', './cropped_dataset/0\\\\RET292OS.jpg', './cropped_dataset/0\\\\RET283OS.jpg', './cropped_dataset/0\\\\RET194OD.jpg', './cropped_dataset/0\\\\RET240OS.jpg', './cropped_dataset/0\\\\RET153OD.jpg', './cropped_dataset/0\\\\RET162OD.jpg', './cropped_dataset/0\\\\RET214OD.jpg', './cropped_dataset/0\\\\RET039OS.jpg', './cropped_dataset/0\\\\RET214OS.jpg', './cropped_dataset/0\\\\RET169OS.jpg', './cropped_dataset/0\\\\RET033OD.jpg', './cropped_dataset/0\\\\RET213OS.jpg', './cropped_dataset/0\\\\RET144OD.jpg', './cropped_dataset/0\\\\RET228OD.jpg', './cropped_dataset/0\\\\RET204OD.jpg', './cropped_dataset/0\\\\RET162OS.jpg', './cropped_dataset/0\\\\RET290OS.jpg', './cropped_dataset/0\\\\RET144OS.jpg', './cropped_dataset/0\\\\RET283OD.jpg', './cropped_dataset/0\\\\RET171OS.jpg', './cropped_dataset/0\\\\RET136OD.jpg', './cropped_dataset/0\\\\RET182OS.jpg', './cropped_dataset/0\\\\RET277OS.jpg', './cropped_dataset/0\\\\RET031OS.jpg', './cropped_dataset/0\\\\RET246OS.jpg', './cropped_dataset/0\\\\RET160OS.jpg', './cropped_dataset/0\\\\RET138OD.jpg', './cropped_dataset/0\\\\RET030OS.jpg', './cropped_dataset/0\\\\RET227OS.jpg', './cropped_dataset/0\\\\RET257OS.jpg', './cropped_dataset/0\\\\RET133OS.jpg', './cropped_dataset/0\\\\RET289OS.jpg', './cropped_dataset/0\\\\RET150OD.jpg', './cropped_dataset/0\\\\RET234OS.jpg', './cropped_dataset/0\\\\RET179OS.jpg', './cropped_dataset/0\\\\RET156OD.jpg', './cropped_dataset/0\\\\RET257OD.jpg', './cropped_dataset/0\\\\RET287OD.jpg', './cropped_dataset/0\\\\RET221OS.jpg', './cropped_dataset/0\\\\RET269OD.jpg', './cropped_dataset/0\\\\RET038OS.jpg', './cropped_dataset/0\\\\RET239OD.jpg', './cropped_dataset/0\\\\RET033OS.jpg', './cropped_dataset/0\\\\RET178OS.jpg', './cropped_dataset/0\\\\RET239OS.jpg', './cropped_dataset/0\\\\RET191OS.jpg', './cropped_dataset/0\\\\RET125OD.jpg', './cropped_dataset/0\\\\RET184OS.jpg', './cropped_dataset/0\\\\RET153OS.jpg', './cropped_dataset/0\\\\RET255OS.jpg', './cropped_dataset/0\\\\RET131OD.jpg', './cropped_dataset/0\\\\RET203OS.jpg', './cropped_dataset/0\\\\RET131OS.jpg', './cropped_dataset/0\\\\RET181OD.jpg', './cropped_dataset/0\\\\RET287OS.jpg', './cropped_dataset/0\\\\RET292OD.jpg', './cropped_dataset/0\\\\RET139OD.jpg', './cropped_dataset/0\\\\RET165OS.jpg', './cropped_dataset/0\\\\RET210OS.jpg', './cropped_dataset/0\\\\RET274OD.jpg', './cropped_dataset/0\\\\RET034OS.jpg', './cropped_dataset/0\\\\RET140OS.jpg', './cropped_dataset/0\\\\RET204OS.jpg', './cropped_dataset/0\\\\RET158OS.jpg', './cropped_dataset/0\\\\RET245OS.jpg', './cropped_dataset/0\\\\RET200OD.jpg', './cropped_dataset/0\\\\RET212OS.jpg', './cropped_dataset/0\\\\RET242OS.jpg', './cropped_dataset/0\\\\RET225OS.jpg', './cropped_dataset/0\\\\RET222OS.jpg', './cropped_dataset/0\\\\RET130OD.jpg', './cropped_dataset/0\\\\RET282OS.jpg', './cropped_dataset/0\\\\RET288OD.jpg', './cropped_dataset/0\\\\RET133OD.jpg', './cropped_dataset/0\\\\RET285OD.jpg', './cropped_dataset/0\\\\RET177OD.jpg', './cropped_dataset/0\\\\RET196OD.jpg', './cropped_dataset/0\\\\RET277OD.jpg', './cropped_dataset/0\\\\RET244OS.jpg', './cropped_dataset/0\\\\RET045OD.jpg', './cropped_dataset/0\\\\RET032OD.jpg', './cropped_dataset/0\\\\RET183OS.jpg', './cropped_dataset/0\\\\RET209OS.jpg', './cropped_dataset/0\\\\RET149OS.jpg', './cropped_dataset/0\\\\RET231OD.jpg', './cropped_dataset/0\\\\RET272OD.jpg', './cropped_dataset/0\\\\RET271OD.jpg', './cropped_dataset/0\\\\RET273OD.jpg', './cropped_dataset/0\\\\RET286OS.jpg', './cropped_dataset/0\\\\RET255OD.jpg', './cropped_dataset/0\\\\RET143OD.jpg', './cropped_dataset/0\\\\RET170OD.jpg', './cropped_dataset/0\\\\RET140OD.jpg', './cropped_dataset/0\\\\RET030OD.jpg', './cropped_dataset/0\\\\RET222OD.jpg', './cropped_dataset/0\\\\RET169OD.jpg', './cropped_dataset/0\\\\RET147OS.jpg', './cropped_dataset/0\\\\RET188OD.jpg', './cropped_dataset/0\\\\RET225OD.jpg', './cropped_dataset/0\\\\RET238OS.jpg', './cropped_dataset/0\\\\RET220OS.jpg', './cropped_dataset/0\\\\RET230OS.jpg', './cropped_dataset/0\\\\RET188OS.jpg', './cropped_dataset/0\\\\RET237OD.jpg', './cropped_dataset/0\\\\RET196OS.jpg', './cropped_dataset/0\\\\RET245OD.jpg', './cropped_dataset/0\\\\RET132OS.jpg', './cropped_dataset/0\\\\RET221OD.jpg', './cropped_dataset/0\\\\RET288OS.jpg', './cropped_dataset/0\\\\RET038OD.jpg', './cropped_dataset/0\\\\RET164OD.jpg', './cropped_dataset/0\\\\RET259OD.jpg', './cropped_dataset/0\\\\RET098OD.jpg', './cropped_dataset/0\\\\RET274OS.jpg', './cropped_dataset/0\\\\RET192OS.jpg', './cropped_dataset/0\\\\RET170OS.jpg', './cropped_dataset/0\\\\RET190OS.jpg', './cropped_dataset/0\\\\RET211OS.jpg', './cropped_dataset/0\\\\RET154OD.jpg', './cropped_dataset/0\\\\RET159OD.jpg', './cropped_dataset/0\\\\RET211OD.jpg', './cropped_dataset/0\\\\RET157OD.jpg', './cropped_dataset/0\\\\RET032OS.jpg', './cropped_dataset/0\\\\RET135OS.jpg', './cropped_dataset/0\\\\RET238OD.jpg', './cropped_dataset/0\\\\RET163OD.jpg', './cropped_dataset/0\\\\RET237OS.jpg', './cropped_dataset/0\\\\RET163OS.jpg', './cropped_dataset/0\\\\RET096OD.jpg', './cropped_dataset/0\\\\RET197OD.jpg', './cropped_dataset/0\\\\RET251OS.jpg', './cropped_dataset/0\\\\RET130OS.jpg', './cropped_dataset/0\\\\RET254OS.jpg', './cropped_dataset/0\\\\RET281OD.jpg', './cropped_dataset/0\\\\RET291OD.jpg', './cropped_dataset/0\\\\RET152OD.jpg', './cropped_dataset/0\\\\RET143OS.jpg', './cropped_dataset/0\\\\RET241OS.jpg', './cropped_dataset/0\\\\RET290OD.jpg', './cropped_dataset/0\\\\RET147OD.jpg', './cropped_dataset/0\\\\RET208OS.jpg', './cropped_dataset/0\\\\RET293OD.jpg', './cropped_dataset/0\\\\RET191OD.jpg', './cropped_dataset/0\\\\RET146OD.jpg', './cropped_dataset/0\\\\RET223OS.jpg', './cropped_dataset/0\\\\RET126OD.jpg', './cropped_dataset/0\\\\RET252OD.jpg', './cropped_dataset/0\\\\RET186OD.jpg', './cropped_dataset/0\\\\RET127OD.jpg', './cropped_dataset/0\\\\RET213OD.jpg']\n",
      "test_data: ['./cropped_dataset/0\\\\RET232OD.jpg', './cropped_dataset/0\\\\RET174OD.jpg', './cropped_dataset/0\\\\RET151OD.jpg', './cropped_dataset/0\\\\RET227OD.jpg', './cropped_dataset/0\\\\RET172OD.jpg', './cropped_dataset/0\\\\RET108OS.jpg', './cropped_dataset/0\\\\RET272OS.jpg', './cropped_dataset/0\\\\RET149OD.jpg', './cropped_dataset/0\\\\RET235OS.jpg', './cropped_dataset/0\\\\RET202OD.jpg', './cropped_dataset/0\\\\RET249OD.jpg', './cropped_dataset/0\\\\RET035OS.jpg', './cropped_dataset/0\\\\RET155OS.jpg', './cropped_dataset/0\\\\RET107OD.jpg', './cropped_dataset/0\\\\RET256OS.jpg', './cropped_dataset/0\\\\RET280OS.jpg', './cropped_dataset/0\\\\RET199OS.jpg', './cropped_dataset/0\\\\RET266OD.jpg', './cropped_dataset/0\\\\RET224OD.jpg', './cropped_dataset/0\\\\RET284OD.jpg', './cropped_dataset/0\\\\RET171OD.jpg', './cropped_dataset/0\\\\RET262OD.jpg', './cropped_dataset/0\\\\RET036OS.jpg', './cropped_dataset/0\\\\RET178OD.jpg', './cropped_dataset/0\\\\RET224OS.jpg', './cropped_dataset/0\\\\RET280OD.jpg', './cropped_dataset/0\\\\RET126OS.jpg', './cropped_dataset/0\\\\RET027OD.jpg', './cropped_dataset/0\\\\RET035OD.jpg', './cropped_dataset/0\\\\RET198OS.jpg', './cropped_dataset/0\\\\RET203OD.jpg', './cropped_dataset/0\\\\RET273OS.jpg', './cropped_dataset/0\\\\RET271OS.jpg', './cropped_dataset/0\\\\RET116OD.jpg', './cropped_dataset/0\\\\RET268OS.jpg', './cropped_dataset/0\\\\RET129OS.jpg', './cropped_dataset/0\\\\RET127OS.jpg', './cropped_dataset/0\\\\RET164OS.jpg', './cropped_dataset/0\\\\RET029OS.jpg', './cropped_dataset/0\\\\RET293OS.jpg', './cropped_dataset/0\\\\RET230OD.jpg', './cropped_dataset/0\\\\RET242OD.jpg', './cropped_dataset/0\\\\RET174OS.jpg', './cropped_dataset/0\\\\RET253OD.jpg', './cropped_dataset/0\\\\RET218OD.jpg', './cropped_dataset/0\\\\RET154OS.jpg', './cropped_dataset/0\\\\RET259OS.jpg', './cropped_dataset/0\\\\RET291OS.jpg', './cropped_dataset/0\\\\RET219OD.jpg', './cropped_dataset/0\\\\RET205OS.jpg', './cropped_dataset/0\\\\RET266OS.jpg', './cropped_dataset/0\\\\RET172OS.jpg', './cropped_dataset/0\\\\RET209OD.jpg', './cropped_dataset/0\\\\RET132OD.jpg', './cropped_dataset/0\\\\RET190OD.jpg', './cropped_dataset/0\\\\RET142OS.jpg', './cropped_dataset/0\\\\RET212OD.jpg', './cropped_dataset/0\\\\RET207OD.jpg', './cropped_dataset/0\\\\RET186OS.jpg', './cropped_dataset/0\\\\RET146OS.jpg', './cropped_dataset/0\\\\RET235OD.jpg']\n",
      "\n",
      "========== data_shuffled[1] ==========\n",
      "학습 데이터 비율: 0.7916666666666666\n",
      "테스트 데이터 비율: 0.20833333333333334\n",
      "train_data: ['./cropped_dataset/1\\\\RET026OD.jpg', './cropped_dataset/1\\\\RET074OS.jpg', './cropped_dataset/1\\\\RET023OS.jpg', './cropped_dataset/1\\\\RET016OD.jpg', './cropped_dataset/1\\\\RET077OS.jpg', './cropped_dataset/1\\\\RET057OS.jpg', './cropped_dataset/1\\\\RET233OS.jpg', './cropped_dataset/1\\\\RET055OS.jpg', './cropped_dataset/1\\\\RET057OD.jpg', './cropped_dataset/1\\\\RET015OD.jpg', './cropped_dataset/1\\\\RET087OD.jpg', './cropped_dataset/1\\\\RET047OD.jpg', './cropped_dataset/1\\\\RET020OD.jpg', './cropped_dataset/1\\\\RET064OS.jpg', './cropped_dataset/1\\\\RET119OS.jpg', './cropped_dataset/1\\\\RET014OS.jpg', './cropped_dataset/1\\\\RET050OD.jpg', './cropped_dataset/1\\\\RET013OD.jpg', './cropped_dataset/1\\\\RET074OD.jpg', './cropped_dataset/1\\\\RET005OS.jpg', './cropped_dataset/1\\\\RET069OS.jpg', './cropped_dataset/1\\\\RET051OS.jpg', './cropped_dataset/1\\\\RET065OS.jpg', './cropped_dataset/1\\\\RET116OS.jpg', './cropped_dataset/1\\\\RET062OS.jpg', './cropped_dataset/1\\\\RET042OD.jpg', './cropped_dataset/1\\\\RET068OD.jpg', './cropped_dataset/1\\\\RET045OS.jpg', './cropped_dataset/1\\\\RET044OS.jpg', './cropped_dataset/1\\\\RET021OD.jpg', './cropped_dataset/1\\\\RET021OS.jpg', './cropped_dataset/1\\\\RET248OS.jpg', './cropped_dataset/1\\\\RET005OD.jpg', './cropped_dataset/1\\\\RET056OD.jpg', './cropped_dataset/1\\\\RET004OS.jpg', './cropped_dataset/1\\\\RET020OS.jpg', './cropped_dataset/1\\\\RET025OS.jpg', './cropped_dataset/1\\\\RET105OD.jpg', './cropped_dataset/1\\\\RET248OD.jpg', './cropped_dataset/1\\\\RET016OS.jpg', './cropped_dataset/1\\\\RET064OD.jpg', './cropped_dataset/1\\\\RET265OS.jpg', './cropped_dataset/1\\\\RET098OS.jpg', './cropped_dataset/1\\\\RET019OD.jpg', './cropped_dataset/1\\\\RET062OD.jpg', './cropped_dataset/1\\\\RET014OD.jpg', './cropped_dataset/1\\\\RET096OS.jpg', './cropped_dataset/1\\\\RET090OS.jpg', './cropped_dataset/1\\\\RET019OS.jpg', './cropped_dataset/1\\\\RET105OS.jpg', './cropped_dataset/1\\\\RET081OD.jpg', './cropped_dataset/1\\\\RET265OD.jpg', './cropped_dataset/1\\\\RET047OS.jpg', './cropped_dataset/1\\\\RET119OD.jpg', './cropped_dataset/1\\\\RET042OS.jpg', './cropped_dataset/1\\\\RET088OD.jpg', './cropped_dataset/1\\\\RET048OS.jpg']\n",
      "test_data: ['./cropped_dataset/1\\\\RET015OS.jpg', './cropped_dataset/1\\\\RET088OS.jpg', './cropped_dataset/1\\\\RET233OD.jpg', './cropped_dataset/1\\\\RET025OD.jpg', './cropped_dataset/1\\\\RET023OD.jpg', './cropped_dataset/1\\\\RET090OD.jpg', './cropped_dataset/1\\\\RET081OS.jpg', './cropped_dataset/1\\\\RET069OD.jpg', './cropped_dataset/1\\\\RET027OS.jpg', './cropped_dataset/1\\\\RET077OD.jpg', './cropped_dataset/1\\\\RET050OS.jpg', './cropped_dataset/1\\\\RET026OS.jpg', './cropped_dataset/1\\\\RET044OD.jpg', './cropped_dataset/1\\\\RET051OD.jpg', './cropped_dataset/1\\\\RET004OD.jpg']\n",
      "\n",
      "========== data_shuffled[2] ==========\n",
      "학습 데이터 비율: 0.8\n",
      "테스트 데이터 비율: 0.2\n",
      "train_data: ['./cropped_dataset/2\\\\RET276OD.jpg', './cropped_dataset/2\\\\RET007OD.jpg', './cropped_dataset/2\\\\RET264OS.jpg', './cropped_dataset/2\\\\RET072OD.jpg', './cropped_dataset/2\\\\RET079OD.jpg', './cropped_dataset/2\\\\RET024OS.jpg', './cropped_dataset/2\\\\RET120OD.jpg', './cropped_dataset/2\\\\RET018OD.jpg', './cropped_dataset/2\\\\RET092OD.jpg', './cropped_dataset/2\\\\RET120OS.jpg', './cropped_dataset/2\\\\RET102OD.jpg', './cropped_dataset/2\\\\RET008OS.jpg', './cropped_dataset/2\\\\RET104OS.jpg', './cropped_dataset/2\\\\RET008OD.jpg', './cropped_dataset/2\\\\RET106OD.jpg', './cropped_dataset/2\\\\RET073OD.jpg', './cropped_dataset/2\\\\RET073OS.jpg', './cropped_dataset/2\\\\RET101OD.jpg', './cropped_dataset/2\\\\RET122OD.jpg', './cropped_dataset/2\\\\RET006OS.jpg', './cropped_dataset/2\\\\RET089OS.jpg', './cropped_dataset/2\\\\RET092OS.jpg', './cropped_dataset/2\\\\RET113OS.jpg', './cropped_dataset/2\\\\RET006OD.jpg', './cropped_dataset/2\\\\RET102OS.jpg', './cropped_dataset/2\\\\RET002OS.jpg', './cropped_dataset/2\\\\RET091OS.jpg', './cropped_dataset/2\\\\RET276OS.jpg', './cropped_dataset/2\\\\RET053OS.jpg', './cropped_dataset/2\\\\RET106OS.jpg', './cropped_dataset/2\\\\RET180OD.jpg', './cropped_dataset/2\\\\RET046OD.jpg', './cropped_dataset/2\\\\RET264OD.jpg', './cropped_dataset/2\\\\RET018OS.jpg', './cropped_dataset/2\\\\RET066OD.jpg', './cropped_dataset/2\\\\RET193OD.jpg', './cropped_dataset/2\\\\RET067OS.jpg', './cropped_dataset/2\\\\RET180OS.jpg', './cropped_dataset/2\\\\RET122OS.jpg', './cropped_dataset/2\\\\RET007OS.jpg', './cropped_dataset/2\\\\RET112OS.jpg', './cropped_dataset/2\\\\RET067OD.jpg', './cropped_dataset/2\\\\RET002OD.jpg', './cropped_dataset/2\\\\RET112OD.jpg']\n",
      "test_data: ['./cropped_dataset/2\\\\RET041OS.jpg', './cropped_dataset/2\\\\RET113OD.jpg', './cropped_dataset/2\\\\RET041OD.jpg', './cropped_dataset/2\\\\RET091OD.jpg', './cropped_dataset/2\\\\RET072OS.jpg', './cropped_dataset/2\\\\RET089OD.jpg', './cropped_dataset/2\\\\RET104OD.jpg', './cropped_dataset/2\\\\RET024OD.jpg', './cropped_dataset/2\\\\RET101OS.jpg', './cropped_dataset/2\\\\RET193OS.jpg', './cropped_dataset/2\\\\RET114OS.jpg']\n",
      "\n"
     ]
    }
   ],
   "source": [
    "for i in range(3):\n",
    "    dataShuffle(i)"
   ]
  },
  {
   "cell_type": "markdown",
   "id": "44fd6c9d",
   "metadata": {},
   "source": [
    "---"
   ]
  },
  {
   "cell_type": "code",
   "execution_count": 13,
   "id": "6427f2b3",
   "metadata": {},
   "outputs": [],
   "source": [
    "# # 이미지 회전 (예: 45도)\n",
    "# rotated_cropped_image = cropped_image.rotate(45)\n",
    "\n",
    "# # 크롭된 이미지 및 회전된 이미지 출력\n",
    "# plt.figure(figsize=(8, 4))\n",
    "\n",
    "# plt.subplot(1, 2, 1)\n",
    "# plt.imshow(cropped_image)\n",
    "# plt.title('Cropped Image')\n",
    "\n",
    "# plt.subplot(1, 2, 2)\n",
    "# plt.imshow(rotated_cropped_image)\n",
    "# plt.title('Rotated Cropped Image')\n",
    "\n",
    "# plt.show()"
   ]
  },
  {
   "cell_type": "code",
   "execution_count": 14,
   "id": "dfa39bbe",
   "metadata": {},
   "outputs": [],
   "source": [
    "# # 선택한 이미지들을 처리하고 출력\n",
    "# for image_path in train_images:\n",
    "\n",
    "# for image_path in test_images:"
   ]
  },
  {
   "cell_type": "code",
   "execution_count": null,
   "id": "0ef71bcd",
   "metadata": {},
   "outputs": [],
   "source": []
  },
  {
   "cell_type": "code",
   "execution_count": null,
   "id": "84efce57",
   "metadata": {},
   "outputs": [],
   "source": []
  }
 ],
 "metadata": {
  "kernelspec": {
   "display_name": "Python 3",
   "language": "python",
   "name": "python3"
  },
  "language_info": {
   "codemirror_mode": {
    "name": "ipython",
    "version": 3
   },
   "file_extension": ".py",
   "mimetype": "text/x-python",
   "name": "python",
   "nbconvert_exporter": "python",
   "pygments_lexer": "ipython3",
   "version": "3.11.4"
  }
 },
 "nbformat": 4,
 "nbformat_minor": 5
}
